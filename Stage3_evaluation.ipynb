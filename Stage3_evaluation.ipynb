{
 "cells": [
  {
   "cell_type": "code",
   "execution_count": 10,
   "id": "44cbe766",
   "metadata": {},
   "outputs": [],
   "source": [
    "import pandas as pd\n",
    "import numpy as np\n",
    "import joblib\n",
    "from sklearn.metrics import confusion_matrix, ConfusionMatrixDisplay\n",
    "import matplotlib.pyplot as plt"
   ]
  },
  {
   "cell_type": "code",
   "execution_count": 11,
   "id": "a704e5ab",
   "metadata": {},
   "outputs": [],
   "source": [
    "train_df = pd.read_csv(\"dataset/train.csv\")\n",
    "test_df = pd.read_csv(\"dataset/test.csv\")\n",
    "\n",
    "X_train = train_df.drop([\"HiringDecision\", \"Age\", \"DistanceFromCompany\", \"Gender\",'PreviousCompanies'], axis=1)\n",
    "y_train = train_df[\"HiringDecision\"]\n",
    "\n",
    "X_test = test_df.drop([\"HiringDecision\", \"Age\", \"DistanceFromCompany\", \"Gender\",'PreviousCompanies'], axis=1)\n",
    "y_test = test_df[\"HiringDecision\"]"
   ]
  },
  {
   "cell_type": "code",
   "execution_count": 12,
   "id": "3b54c668",
   "metadata": {},
   "outputs": [
    {
     "name": "stdout",
     "output_type": "stream",
     "text": [
      "Model berhasil dimuat.\n"
     ]
    }
   ],
   "source": [
    "try:\n",
    "    best_xgboost_model = joblib.load('best_xgboost_model.pkl')\n",
    "    print(\"Model berhasil dimuat.\")\n",
    "except FileNotFoundError:\n",
    "    print(\"File 'best_xgboost_model.pkl' tidak ditemukan. Pastikan path sudah benar.\")"
   ]
  },
  {
   "cell_type": "code",
   "execution_count": 18,
   "id": "97e16f77",
   "metadata": {},
   "outputs": [
    {
     "name": "stdout",
     "output_type": "stream",
     "text": [
      "Prediksi untuk data baru: [0 0 1 0 0 1 0 1 1 0 0 1 0 0 0 0 0 0 0 0 0 0 0 1 1 0 0 0 0 0 0 1 0 0 1 1 0\n",
      " 1 1 0 1 0 0 0 1 0 1 0 0 0 0 0 0 0 1 0 0 0 0 0 0 0 0 0 0 0 1 0 0 1 1 1 0 0\n",
      " 0 1 0 1 0 0 0 0 1 0 0 1 0 0 0 0 0 0 0 1 0 0 0 0 0 0 1 0 0 0 0 0 0 0 0 1 1\n",
      " 0 0 0 0 0 1 0 0 0 0 1 0 1 0 1 0 0 0 0 0 0 0 0 0 0 0 1 0 0 1 0 0 0 0 0 0 1\n",
      " 0 0 0 0 0 1 0 0 0 0 0 1 0 0 0 1 0 0 0 1 1 0 0 0 1 1 0 0 0 1 0 0 0 0 0 1 0\n",
      " 0 0 0 0 1 1 0 0 0 0 1 1 1 0 0 1 0 0 1 1 0 0 1 0 1 1 0 0 1 0 0 0 1 0 1 1 0\n",
      " 0 1 1 0 0 0 0 0 0 0 1 0 0 0 1 0 0 0 1 0 0 0 0 1 0 0 0 0 0 1 0 1 1 0 1 1 1\n",
      " 1 0 1 0 0 0 0 0 0 0 0 0 1 0 1 0 1 0 0 0 1 1 1 0 0 1 0 0 1 0 0 0 0 0 0 0 0\n",
      " 1 0 0 0]\n"
     ]
    }
   ],
   "source": [
    "def bin_experience(x):\n",
    "    bins = np.array(x).astype(int).ravel()\n",
    "    labels = []\n",
    "    for v in bins:\n",
    "        if v <=2:\n",
    "            labels.append(\"Junior\")\n",
    "        elif v <=5:\n",
    "            labels.append(\"Mid\")\n",
    "        else:\n",
    "            labels.append(\"Senior\")\n",
    "    return np.array(labels).reshape(-1,1)\n",
    "loaded_pipeline = joblib.load(\"preprocesor.pkl\")\n",
    "loaded_model = joblib.load(\"best_xgboost_model.pkl\")\n",
    "\n",
    "# Gunakan pipeline untuk mentransformasi data baru secara langsung\n",
    "# Data yang dimasukkan ke pipeline ini harus sama dengan kolom pada X_train\n",
    "new_data_transformed = loaded_pipeline.transform(X_test)\n",
    "\n",
    "# Lakukan prediksi\n",
    "prediction = loaded_model.predict(new_data_transformed)\n",
    "\n",
    "print(\"Prediksi untuk data baru:\", prediction)"
   ]
  }
 ],
 "metadata": {
  "kernelspec": {
   "display_name": "latihan_env",
   "language": "python",
   "name": "python3"
  },
  "language_info": {
   "codemirror_mode": {
    "name": "ipython",
    "version": 3
   },
   "file_extension": ".py",
   "mimetype": "text/x-python",
   "name": "python",
   "nbconvert_exporter": "python",
   "pygments_lexer": "ipython3",
   "version": "3.13.2"
  }
 },
 "nbformat": 4,
 "nbformat_minor": 5
}
